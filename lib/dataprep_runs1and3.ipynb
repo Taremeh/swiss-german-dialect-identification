{
 "cells": [
  {
   "cell_type": "code",
   "execution_count": 26,
   "metadata": {
    "collapsed": false
   },
   "outputs": [],
   "source": [
    "from keras.preprocessing.sequence import pad_sequences\n",
    "\n",
    "from collections import defaultdict, Counter\n",
    "import os\n",
    "import gzip\n",
    "import re\n",
    "import json\n",
    "import numpy as np\n",
    "import pandas as pd\n",
    "from matplotlib import pyplot as plt\n",
    "import matplotlib\n",
    "%matplotlib inline"
   ]
  },
  {
   "cell_type": "code",
   "execution_count": 3,
   "metadata": {
    "collapsed": false
   },
   "outputs": [],
   "source": [
    "np.random.seed(42)"
   ]
  },
  {
   "cell_type": "code",
   "execution_count": 4,
   "metadata": {
    "collapsed": true
   },
   "outputs": [],
   "source": [
    "path2data = 'GDI-official-training-data/GDI-TRAIN.txt.gz'\n",
    "folds_json = 'cv.d/folds.json'\n",
    "# save all the preprocessed data\n",
    "data_dir = 'preprocessed_data.d/paper_runs/'"
   ]
  },
  {
   "cell_type": "code",
   "execution_count": 5,
   "metadata": {
    "collapsed": true
   },
   "outputs": [],
   "source": [
    "# read in data; each line is a sample \\t label\n",
    "data = []\n",
    "targets = []\n",
    "# target encoder\n",
    "label_encoder = {'LU':0, 'BE':1, 'ZH':2, 'BS':3}\n",
    "with gzip.open(path2data, 'rt', encoding='utf8') as f:\n",
    "    for line in f:\n",
    "        d, t = line.split('\\t')\n",
    "        data.append(d)\n",
    "        # encode targets\n",
    "        targets.append(label_encoder[t.strip()])"
   ]
  },
  {
   "cell_type": "code",
   "execution_count": 6,
   "metadata": {
    "collapsed": true
   },
   "outputs": [],
   "source": [
    "targets = np.array(targets)"
   ]
  },
  {
   "cell_type": "code",
   "execution_count": 7,
   "metadata": {
    "collapsed": false
   },
   "outputs": [],
   "source": [
    "folds = json.load(open(folds_json))\n",
    "test_idx = folds['test_idx']\n",
    "# use 0th fold for train / dev split\n",
    "train = folds['cv_idx'][0]\n",
    "assert train['fold'] == 0\n",
    "train_idx, val_idx = train['train_idx'], train['val_idx']"
   ]
  },
  {
   "cell_type": "code",
   "execution_count": 8,
   "metadata": {
    "collapsed": false
   },
   "outputs": [
    {
     "name": "stdout",
     "output_type": "stream",
     "text": [
      "11726 1304\n"
     ]
    }
   ],
   "source": [
    "# lengths of train, dev\n",
    "print(len(train_idx), len(val_idx))"
   ]
  },
  {
   "cell_type": "markdown",
   "metadata": {},
   "source": [
    "### Character replacement that we use elsewhere"
   ]
  },
  {
   "cell_type": "code",
   "execution_count": 9,
   "metadata": {
    "collapsed": true
   },
   "outputs": [],
   "source": [
    "char_replacement = {u'é':u'e1', u'è':u'e2', u'ẽ':u'e3',\n",
    "                    u'ò':u'o2', u'õ':u'o2',\n",
    "                    u'ú':u'u1', u'ù':u'u2',\n",
    "                    u'à':u'a2', u'ã':u'a3',\n",
    "                    u'ǜ':u'ü2',\n",
    "                    u'ì':u'i2',\n",
    "                   }\n",
    "\n",
    "def replace_ngraphs(s):\n",
    "    for old, new in [('sch', '8'), ('ch', '9')]:\n",
    "        s = s.replace(old, new)\n",
    "    return s\n",
    "\n",
    "def replaced(s):\n",
    "    return ''.join(char_replacement.get(c, c) for c in replace_ngraphs(s))"
   ]
  },
  {
   "cell_type": "code",
   "execution_count": 10,
   "metadata": {
    "collapsed": false
   },
   "outputs": [
    {
     "name": "stdout",
     "output_type": "stream",
     "text": [
      "a das chamì natüürlich aus nìd erinnere\n",
      "a das 9ami2 natüürli9 aus ni2d erinnere\n"
     ]
    }
   ],
   "source": [
    "### apply all replacements\n",
    "print(data[3])\n",
    "print(replaced(data[3]))"
   ]
  },
  {
   "cell_type": "markdown",
   "metadata": {},
   "source": [
    "### Data encoding"
   ]
  },
  {
   "cell_type": "code",
   "execution_count": 11,
   "metadata": {
    "collapsed": false
   },
   "outputs": [],
   "source": [
    "padding='pre'\n",
    "truncating='post'\n",
    "\n",
    "def encode_data(X, encoder,\n",
    "                maxlen, fit=False,\n",
    "                padding=padding,\n",
    "                truncating=truncating,\n",
    "                padding_value=0):\n",
    "    # `fit=True` for training, `fit=False` otherwise\n",
    "    # for production: better intelligently replace chars not in encoder\n",
    "    return pad_sequences(([[encoder[c] for c in s] for s in X] if fit else\n",
    "                          # in dev and test, if char not in encoder, ignore it\n",
    "                          [[encoder[c] for c in s if c in encoder] for s in X]),\n",
    "                         maxlen=maxlen, dtype='int32',\n",
    "                         padding=padding, truncating=truncating,\n",
    "                         value=padding_value)\n",
    "\n",
    "# one-hot encode targets\n",
    "def encode_targets(y, num_targets=len(label_encoder)):\n",
    "    lt = len(y)\n",
    "    y_enc = np.zeros((lt, num_targets))\n",
    "    y_enc[range(lt), y] = 1\n",
    "    return y_enc\n",
    "\n",
    "def decoder(enc):\n",
    "    return dict((v, k) for k, v in enc.items())"
   ]
  },
  {
   "cell_type": "markdown",
   "metadata": {},
   "source": [
    "### Data augmentation"
   ]
  },
  {
   "cell_type": "code",
   "execution_count": 12,
   "metadata": {
    "collapsed": true
   },
   "outputs": [],
   "source": [
    "# augment training data & throw out short messages !\n",
    "def augment_train(X, y,\n",
    "                  ignore_short_messages=3,\n",
    "                  double_long_messages=10,\n",
    "                  triple_very_long_messages=15):\n",
    "    X_ = []\n",
    "    y_ = []\n",
    "    for d, l in zip(X, y):\n",
    "        s = d.split(' ')\n",
    "        lt = len(s)\n",
    "        if lt < ignore_short_messages:\n",
    "            continue\n",
    "        if lt >= triple_very_long_messages:\n",
    "            offset = round(lt / 3)\n",
    "            half_offset = round(lt / 6)\n",
    "            s1 = ' '.join(s[:-offset])\n",
    "            s2 = ' '.join(s[offset:])\n",
    "            s3 = ' '.join(s[half_offset:-half_offset])\n",
    "            # add three new sentences instead of the one old one\n",
    "            X_.extend([s1, s2, s3])\n",
    "            y_.extend([l, l, l])\n",
    "        elif lt >= double_long_messages:\n",
    "            offset = round(lt / 4)\n",
    "            s1 = ' '.join(s[:-offset])\n",
    "            s2 = ' '.join(s[offset:])\n",
    "            # add two new sentences instead of the one old one\n",
    "            X_.extend([s1, s2])\n",
    "            y_.extend([l, l])\n",
    "        else:\n",
    "            X_.append(d)\n",
    "            y_.append(l)\n",
    "            \n",
    "    return X_, y_"
   ]
  },
  {
   "cell_type": "markdown",
   "metadata": {},
   "source": [
    "### Save variously encoded data"
   ]
  },
  {
   "cell_type": "code",
   "execution_count": 13,
   "metadata": {
    "collapsed": true
   },
   "outputs": [],
   "source": [
    "def save_data(model_dir, data_to_store):\n",
    "    path = data_dir + model_dir\n",
    "    \n",
    "    if not os.path.exists(path):\n",
    "        os.makedirs(path)\n",
    "        \n",
    "    for d, fn in data_to_store:\n",
    "        np.savetxt(os.path.join(path, fn + '.txt'),\n",
    "                   d, fmt='%d')"
   ]
  },
  {
   "cell_type": "code",
   "execution_count": 14,
   "metadata": {
    "collapsed": true
   },
   "outputs": [],
   "source": [
    "def encode_store(maxlen,\n",
    "                 model_dir=False):\n",
    "    \n",
    "    # one hot encode characters\n",
    "    encoder = defaultdict()\n",
    "    encoder.default_factory = encoder.__len__\n",
    "    padding_value = encoder['#']\n",
    "    assert padding_value == 0\n",
    "    \n",
    "    # encoder data\n",
    "    # prepend with a padding value, truncate long sequences at the end\n",
    "    X_train_enc = encode_data(X_train, encoder, maxlen, fit=True)\n",
    "    encoder = dict(encoder)\n",
    "    print('# chars %d' % len(encoder))\n",
    "\n",
    "    X_dev_enc = encode_data(X_dev, encoder, maxlen)\n",
    "    X_test_enc = encode_data(X_test, encoder, maxlen)\n",
    "    print('X_train / X_dev / X_test shapes:\\n',\n",
    "          X_train_enc.shape, X_dev_enc.shape, X_test_enc.shape)\n",
    "    \n",
    "    # encode targets\n",
    "    y_train_enc = encode_targets(y_train)\n",
    "    y_dev_enc = encode_targets(y_dev)\n",
    "    y_test_enc = encode_targets(y_test)\n",
    "\n",
    "    print('y_train / y_dev / y_test shapes:\\n',\n",
    "          y_train_enc.shape, y_dev_enc.shape, y_test_enc.shape)\n",
    "\n",
    "    if model_dir:\n",
    "        # store encoded data\n",
    "        save_data(model_dir, ((X_train_enc, 'X_train'),\n",
    "                              (X_dev_enc, 'X_dev'),\n",
    "                              (X_test_enc, 'X_test'),\n",
    "                              #\n",
    "                              (y_train_enc, 'y_train'),\n",
    "                              (y_dev_enc, 'y_dev'),\n",
    "                              (y_test_enc, 'y_test')))\n",
    "        \n",
    "    return {'X' : (X_train_enc, X_dev_enc, X_test_enc),\n",
    "            'y' : (y_train_enc, y_dev_enc, y_test_enc),\n",
    "            'enc' : encoder}"
   ]
  },
  {
   "cell_type": "markdown",
   "metadata": {},
   "source": [
    "### Check that data models work"
   ]
  },
  {
   "cell_type": "code",
   "execution_count": 15,
   "metadata": {
    "collapsed": false
   },
   "outputs": [],
   "source": [
    "test_models = True\n",
    "\n",
    "if test_models:\n",
    "    from sklearn.feature_extraction.text import CountVectorizer\n",
    "    from sklearn.linear_model import SGDClassifier\n",
    "    from sklearn.metrics import accuracy_score\n",
    "\n",
    "    def dec_X(X, dec):\n",
    "        return [''.join([dec[c] for c in s if c]) for s in X]\n",
    "\n",
    "    def dec_y(y):\n",
    "        return y.nonzero()[1]\n",
    "\n",
    "    def test_data_model(data_model):\n",
    "        \n",
    "        dec = decoder(data_model['enc'])\n",
    "\n",
    "        X_train, X_dev, X_test = [dec_X(X, dec) for X in data_model['X']]\n",
    "        y_train, y_dev, y_test = [dec_y(y) for y in data_model['y']]\n",
    "\n",
    "        vec = CountVectorizer('content',\n",
    "                              analyzer='char_wb',\n",
    "                              ngram_range=(2, 7))\n",
    "        clf = SGDClassifier()\n",
    "        clf.fit(vec.fit_transform(X_train), y_train)\n",
    "\n",
    "        y_dev_pred = clf.predict(vec.transform(X_dev))\n",
    "        y_test_pred = clf.predict(vec.transform(X_test))\n",
    "\n",
    "        print('Dev accuracy, test accuracy: ',\n",
    "              accuracy_score(data_model['y'][1].nonzero()[1], y_dev_pred),\n",
    "              accuracy_score(data_model['y'][2].nonzero()[1], y_test_pred))\n",
    "else:\n",
    "    def test_data_model(data_model):\n",
    "        pass"
   ]
  },
  {
   "cell_type": "markdown",
   "metadata": {},
   "source": [
    "### `model-charrep-augm`: No data augmentation, no char replacements\n",
    "\n",
    "Below is how the data have been created / encoded for use with keras models."
   ]
  },
  {
   "cell_type": "code",
   "execution_count": 16,
   "metadata": {
    "collapsed": false
   },
   "outputs": [],
   "source": [
    "# no char replacement or augmentation\n",
    "X_train = [data[i] for i in train_idx]\n",
    "y_train = targets[train_idx]\n",
    "\n",
    "X_dev = [data[i] for i in val_idx]\n",
    "y_dev = targets[val_idx]\n",
    "\n",
    "X_test = [data[i] for i in test_idx]\n",
    "y_test = targets[test_idx]"
   ]
  },
  {
   "cell_type": "code",
   "execution_count": 17,
   "metadata": {
    "collapsed": false
   },
   "outputs": [
    {
     "data": {
      "image/png": "[encoded data removed]",
      "text/plain": [
       "<matplotlib.figure.Figure at 0x7f2dd580cc50>"
      ]
     },
     "metadata": {},
     "output_type": "display_data"
    }
   ],
   "source": [
    "# decide on sequence lengths\n",
    "plt.hist([len(s) for s in X_train], bins=50);"
   ]
  },
  {
   "cell_type": "code",
   "execution_count": 18,
   "metadata": {
    "collapsed": false
   },
   "outputs": [
    {
     "name": "stdout",
     "output_type": "stream",
     "text": [
      "# chars 45\n",
      "X_train / X_dev / X_test shapes:\n",
      " (11726, 90) (1304, 90) (1448, 90)\n",
      "y_train / y_dev / y_test shapes:\n",
      " (11726, 4) (1304, 4) (1448, 4)\n",
      "Dev accuracy, test accuracy:  0.83282208589 0.82044198895\n"
     ]
    }
   ],
   "source": [
    "data_model = encode_store(maxlen=90,\n",
    "                          model_dir='model-charrep-augm')\n",
    "test_data_model(data_model)"
   ]
  },
  {
   "cell_type": "markdown",
   "metadata": {},
   "source": [
    "### `model+charrep-augm`: No data augmentation, WITH char replacements\n",
    "\n",
    "Below is how the data have been created / encoded for use with keras models."
   ]
  },
  {
   "cell_type": "code",
   "execution_count": 19,
   "metadata": {
    "collapsed": false
   },
   "outputs": [],
   "source": [
    "# char replacement, no augmentation\n",
    "X_train = [replaced(data[i]) for i in train_idx]\n",
    "y_train = targets[train_idx]\n",
    "\n",
    "X_dev = [replaced(data[i]) for i in val_idx]\n",
    "y_dev = targets[val_idx]\n",
    "\n",
    "X_test = [replaced(data[i]) for i in test_idx]\n",
    "y_test = targets[test_idx]"
   ]
  },
  {
   "cell_type": "code",
   "execution_count": 20,
   "metadata": {
    "collapsed": false
   },
   "outputs": [
    {
     "data": {
      "image/png": "[encoded data removed]",
      "text/plain": [
       "<matplotlib.figure.Figure at 0x7f2db87f07b8>"
      ]
     },
     "metadata": {},
     "output_type": "display_data"
    }
   ],
   "source": [
    "# decide on sequence lengths\n",
    "plt.hist([len(s) for s in X_train], bins=50);"
   ]
  },
  {
   "cell_type": "code",
   "execution_count": 21,
   "metadata": {
    "collapsed": false
   },
   "outputs": [
    {
     "name": "stdout",
     "output_type": "stream",
     "text": [
      "# chars 39\n",
      "X_train / X_dev / X_test shapes:\n",
      " (11726, 80) (1304, 80) (1448, 80)\n",
      "y_train / y_dev / y_test shapes:\n",
      " (11726, 4) (1304, 4) (1448, 4)\n",
      "Dev accuracy, test accuracy:  0.83282208589 0.828038674033\n"
     ]
    }
   ],
   "source": [
    "data_model = encode_store(maxlen=80,\n",
    "                          model_dir='model+charrep-augm')\n",
    "test_data_model(data_model)"
   ]
  },
  {
   "cell_type": "markdown",
   "metadata": {},
   "source": [
    "### `model-charrep+augm`: WITH data augmentation, no char replacements\n",
    "\n",
    "Data augmentation means that the **training set**, but not the dev and test sets, gets augmented by newer sentences made out of short training sentences. Further, extra short sentences get thrown out of the training set.\n",
    "\n",
    "Below is how the data have been created / encoded for use with keras models."
   ]
  },
  {
   "cell_type": "code",
   "execution_count": 22,
   "metadata": {
    "collapsed": false
   },
   "outputs": [
    {
     "data": {
      "image/png": "[encoded data removed]",
      "text/plain": [
       "<matplotlib.figure.Figure at 0x7f2e737242b0>"
      ]
     },
     "metadata": {},
     "output_type": "display_data"
    }
   ],
   "source": [
    "# no char replacement, with augmentation\n",
    "X_train = [data[i] for i in train_idx]\n",
    "y_train = targets[train_idx]\n",
    "# data augmentation:\n",
    "X_train, y_train = augment_train(X_train, y_train)\n",
    "\n",
    "X_dev = [data[i] for i in val_idx]\n",
    "y_dev = targets[val_idx]\n",
    "\n",
    "X_test = [data[i] for i in test_idx]\n",
    "y_test = targets[test_idx]\n",
    "\n",
    "# decide on sequence lengths\n",
    "plt.hist([len(s) for s in X_train], bins=50);"
   ]
  },
  {
   "cell_type": "code",
   "execution_count": 23,
   "metadata": {
    "collapsed": false
   },
   "outputs": [
    {
     "name": "stdout",
     "output_type": "stream",
     "text": [
      "# chars 44\n",
      "X_train / X_dev / X_test shapes:\n",
      " (15340, 75) (1304, 75) (1448, 75)\n",
      "y_train / y_dev / y_test shapes:\n",
      " (15340, 4) (1304, 4) (1448, 4)\n",
      "Dev accuracy, test accuracy:  0.833588957055 0.841850828729\n"
     ]
    }
   ],
   "source": [
    "data_model = encode_store(maxlen=75,\n",
    "                          model_dir='model-charrep+augm')\n",
    "test_data_model(data_model)"
   ]
  },
  {
   "cell_type": "markdown",
   "metadata": {},
   "source": [
    "### `model+charrep+augm`: WITH data augmentation, WITH char replacements\n",
    "\n",
    "Below is how the data have been created / encoded for use with keras models."
   ]
  },
  {
   "cell_type": "code",
   "execution_count": 24,
   "metadata": {
    "collapsed": false
   },
   "outputs": [
    {
     "data": {
      "image/png": "[encoded data removed]",
      "text/plain": [
       "<matplotlib.figure.Figure at 0x7f2db83cc358>"
      ]
     },
     "metadata": {},
     "output_type": "display_data"
    }
   ],
   "source": [
    "# no char replacement, with augmentation\n",
    "X_train = [replaced(data[i]) for i in train_idx]\n",
    "y_train = targets[train_idx]\n",
    "# data augmentation:\n",
    "X_train, y_train = augment_train(X_train, y_train)\n",
    "\n",
    "X_dev = [replaced(data[i]) for i in val_idx]\n",
    "y_dev = targets[val_idx]\n",
    "\n",
    "X_test = [replaced(data[i]) for i in test_idx]\n",
    "y_test = targets[test_idx]\n",
    "\n",
    "# decide on sequence lengths\n",
    "plt.hist([len(s) for s in X_train], bins=50);"
   ]
  },
  {
   "cell_type": "code",
   "execution_count": 25,
   "metadata": {
    "collapsed": false
   },
   "outputs": [
    {
     "name": "stdout",
     "output_type": "stream",
     "text": [
      "# chars 38\n",
      "X_train / X_dev / X_test shapes:\n",
      " (15340, 70) (1304, 70) (1448, 70)\n",
      "y_train / y_dev / y_test shapes:\n",
      " (15340, 4) (1304, 4) (1448, 4)\n",
      "Dev accuracy, test accuracy:  0.831288343558 0.837016574586\n"
     ]
    }
   ],
   "source": [
    "data_model = encode_store(maxlen=70,\n",
    "                          model_dir='model+charrep+augm')\n",
    "test_data_model(data_model)"
   ]
  },
  {
   "cell_type": "markdown",
   "metadata": {},
   "source": [
    "### Run 1 and Ensemble Run 3\n",
    "\n",
    "**Properties of these runs:**\n",
    "   * character replacements applied,\n",
    "   * short messages dropped: All of length 4 are less (sic!),\n",
    "   * following 10-fold CV on full training data, the following hyper-params set:\n",
    "       * all one-character words dropped,\n",
    "       * features are frequency counts of within-word (?) character n-grams,\n",
    "       * n-grams range from bigrams to 6-grams.\n",
    " \n",
    "**Classifiers:**\n",
    "   * Multinomial Naive Bayes classifier with add-one smoothing (run 1),\n",
    "   * Linear SVM with alpha=0.0001 (one systems of the ensemble run 3)."
   ]
  },
  {
   "cell_type": "code",
   "execution_count": 149,
   "metadata": {
    "collapsed": false
   },
   "outputs": [],
   "source": [
    "# remove short messages\n",
    "def ingore_short(X, ignore_short_messages=4):\n",
    "    long_idx = []\n",
    "    for i, s in enumerate(X):\n",
    "        t = s.split(' ')\n",
    "        lt = len(t)\n",
    "        # throws out all short messages:\n",
    "        # messages of this length do not appear in test data\n",
    "        if lt > ignore_short_messages:\n",
    "            long_idx.append(i)\n",
    "    return long_idx\n",
    "\n",
    "from sklearn.feature_extraction.text import CountVectorizer\n",
    "from sklearn.naive_bayes import MultinomialNB\n",
    "from sklearn.pipeline import Pipeline\n",
    "from sklearn.model_selection import cross_val_score\n",
    "from sklearn.metrics import accuracy_score, f1_score, make_scorer\n",
    "\n",
    "# folds are ordered\n",
    "cv_idx = folds['cv_idx']\n",
    "assert [f['fold'] for f in cv_idx] == list(range(10))"
   ]
  },
  {
   "cell_type": "code",
   "execution_count": 153,
   "metadata": {
    "collapsed": true
   },
   "outputs": [],
   "source": [
    "def generate_predictions(clf=MultinomialNB(),\n",
    "                         analyzer='char',\n",
    "                         ngram_range=(2,6),\n",
    "                         ignore_short_messages=4):\n",
    "    \n",
    "    #print('Parameters: %s, analyzer=\"%s\", ngram_range=%s, ignore_short_messages=%d'\n",
    "    #      % (clf.__class__, analyzer, ngram_range, ignore_short_messages))\n",
    "\n",
    "    long_idx = ingore_short(data,\n",
    "                            ignore_short_messages=ignore_short_messages)\n",
    "    # cv folds, each training set of which is filtered through long_idx\n",
    "    cv = [(np.intersect1d(long_idx, f['train_idx']), f['val_idx']) for f in cv_idx]\n",
    "\n",
    "    # character replacement\n",
    "    X = [replaced(s) for s in data]\n",
    "    \n",
    "    # In this way, also vectorizer is refit every time,\n",
    "    # i.e. vocabulary learned which affects testing.   \n",
    "    pipeline = Pipeline([('vec', CountVectorizer(analyzer=analyzer,\n",
    "                                                 ngram_range=ngram_range)),\n",
    "                         ('clf', clf)])\n",
    "    results = {'cv': []}\n",
    "    # cross-validation predictions\n",
    "    # not parallelized but still fast\n",
    "    for train, test in cv:\n",
    "        pipeline.fit([X[i] for i in train], targets[train])\n",
    "        y_pred = pipeline.predict([X[i] for i in test])\n",
    "        results['cv'].append(y_pred)\n",
    "\n",
    "    # test predictions\n",
    "    #\n",
    "    # training data: all ids of the zeroth fold's training and\n",
    "    # validation sets char-replaced and short sentences filtered out\n",
    "    short_train = [i for ss in cv[0] for i in ss]  # dev set short sentences kept?...\n",
    "    X_train = [X[i] for i in short_train]\n",
    "    y_train = targets[short_train]\n",
    "\n",
    "    X_test = [X[i] for i in test_idx]\n",
    "    y_test = targets[test_idx]\n",
    "\n",
    "    pipeline.fit(X_train, y_train)\n",
    "    y_pred = pipeline.predict(X_test)\n",
    "    results['test'] = y_pred\n",
    "    return results"
   ]
  },
  {
   "cell_type": "code",
   "execution_count": 155,
   "metadata": {
    "collapsed": false
   },
   "outputs": [],
   "source": [
    "# report multiple metrics\n",
    "def evaluate_en_masse(labels, # [(true, pred), ...]\n",
    "                      metrics=[(accuracy_score, 'accuracy'),\n",
    "                               (lambda y, y_pred: f1_score(y, y_pred, average='weighted'), 'weighted F1'),\n",
    "                               (lambda y, y_pred: f1_score(y, y_pred, average='macro'), 'macro-avrg F1')]):\n",
    "    results = dict((n, []) for _, n in metrics)\n",
    "    for ll in labels:\n",
    "        for metric, name in metrics:\n",
    "            fold_result = metric(*ll)\n",
    "            #print(name, fold_result)\n",
    "            results[name].append(fold_result)\n",
    "    return results"
   ]
  },
  {
   "cell_type": "code",
   "execution_count": 173,
   "metadata": {
    "collapsed": false
   },
   "outputs": [],
   "source": [
    "# true labels\n",
    "y_test = [targets[folds['test_idx']]]\n",
    "y_cv = [targets[f['val_idx']] for f in folds['cv_idx']]\n",
    "\n",
    "def print_results(preds, names):\n",
    "    for p, n in zip(preds, names):\n",
    "        print('CV %s:' % n)\n",
    "        out = evaluate_en_masse(zip(y_cv, p['cv']))\n",
    "        for k, v in out.items():\n",
    "            print(k, '%.4f (%.4f)' % (np.mean(v), np.std(v)))\n",
    "        print('Test %s:' % n)\n",
    "        out = evaluate_en_masse(zip(y_test, [p['test']]))\n",
    "        for k, v in out.items():\n",
    "            print(k, '%.4f' % v[0])\n",
    "        print('\\n\\n')\n",
    "        \n",
    "# Run 3 is a majority-vote ensemble: If all classifiers disagree,\n",
    "# return label by the classifier with index `fallback`\n",
    "def ensemble(runs, fallback=0):\n",
    "    preds = []\n",
    "    for fold in zip(*runs):  # group by fold\n",
    "        fold_preds = []\n",
    "        for r in zip(*fold): # group by sample\n",
    "            counts = Counter(r)\n",
    "            classlabel, classcount = counts.most_common(n=1)[0]\n",
    "            if classcount > 2:\n",
    "                pred = r[fallback]\n",
    "            else:\n",
    "                pred = classlabel\n",
    "            fold_preds.append(pred)\n",
    "        preds.append(np.array(fold_preds))\n",
    "    return preds"
   ]
  },
  {
   "cell_type": "code",
   "execution_count": 175,
   "metadata": {
    "collapsed": false
   },
   "outputs": [
    {
     "name": "stdout",
     "output_type": "stream",
     "text": [
      "CV NB:\n",
      "macro-avrg F1 0.8499 (0.0082)\n",
      "accuracy 0.8510 (0.0082)\n",
      "weighted F1 0.8510 (0.0082)\n",
      "Test NB:\n",
      "macro-avrg F1 0.8536\n",
      "accuracy 0.8543\n",
      "weighted F1 0.8544\n",
      "\n",
      "\n",
      "\n",
      "CV SVM:\n",
      "macro-avrg F1 0.8240 (0.0090)\n",
      "accuracy 0.8252 (0.0097)\n",
      "weighted F1 0.8248 (0.0096)\n",
      "Test SVM:\n",
      "macro-avrg F1 0.8234\n",
      "accuracy 0.8232\n",
      "weighted F1 0.8234\n",
      "\n",
      "\n",
      "\n",
      "CV CRF:\n",
      "macro-avrg F1 0.8387 (0.0070)\n",
      "accuracy 0.8396 (0.0068)\n",
      "weighted F1 0.8393 (0.0069)\n",
      "Test CRF:\n",
      "macro-avrg F1 0.8502\n",
      "accuracy 0.8501\n",
      "weighted F1 0.8501\n",
      "\n",
      "\n",
      "\n",
      "CV ENS:\n",
      "macro-avrg F1 0.8554 (0.0085)\n",
      "accuracy 0.8567 (0.0086)\n",
      "weighted F1 0.8565 (0.0086)\n",
      "Test ENS:\n",
      "macro-avrg F1 0.8557\n",
      "accuracy 0.8564\n",
      "weighted F1 0.8563\n",
      "\n",
      "\n",
      "\n"
     ]
    }
   ],
   "source": [
    "# run 1 and the SVM for run 3\n",
    "preds = []\n",
    "for params in [{'clf': MultinomialNB()},\n",
    "               {'clf': SGDClassifier(alpha=0.001), 'analyzer': 'char'}]:\n",
    "    p = generate_predictions(**params)\n",
    "    preds.append(p)\n",
    "    \n",
    "# run 2 predictions: Read from file\n",
    "run2_dir = 'run2_out_35_0.d/'\n",
    "run2_preds = {'cv': []}\n",
    "for i in range(10):\n",
    "    with open(os.path.join(run2_dir, 'test_%d.prediction.tsv' % i)) as f:\n",
    "        sr = csv.reader(f, delimiter='\\t')\n",
    "        fold = np.array([label_encoder[l] for l, in sr])\n",
    "        run2_preds['cv'].append(fold)\n",
    "        \n",
    "with open(os.path.join(run2_dir, 'test_I.prediction.tsv')) as f:\n",
    "    sr = csv.reader(f, delimiter='\\t')\n",
    "    pred_I = np.array([label_encoder[l] for l, in sr])\n",
    "    run2_preds['test'] = pred_I\n",
    "    \n",
    "# run 3 predictions\n",
    "run3_preds = {'cv' : ensemble([p['cv'] for p in preds] + [run2_preds['cv']]),\n",
    "             'test': ensemble([[p['test']] for p in preds] + [[run2_preds['test']]])[0]}\n",
    "\n",
    "# Results\n",
    "print_results(preds + [run2_preds, run3_preds], ['NB', 'SVM', 'CRF', 'ENS'])"
   ]
  }
 ],
 "metadata": {
  "anaconda-cloud": {},
  "kernelspec": {
   "display_name": "Python [default]",
   "language": "python",
   "name": "python3"
  },
  "language_info": {
   "codemirror_mode": {
    "name": "ipython",
    "version": 3
   },
   "file_extension": ".py",
   "mimetype": "text/x-python",
   "name": "python",
   "nbconvert_exporter": "python",
   "pygments_lexer": "ipython3",
   "version": "3.5.2"
  }
 },
 "nbformat": 4,
 "nbformat_minor": 0
}
